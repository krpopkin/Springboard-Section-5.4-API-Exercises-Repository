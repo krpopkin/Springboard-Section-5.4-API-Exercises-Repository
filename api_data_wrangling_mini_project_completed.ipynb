{
 "cells": [
  {
   "cell_type": "markdown",
   "metadata": {},
   "source": [
    "This exercise will require you to pull some data from the Qunadl API. Qaundl is currently the most widely used aggregator of financial market data."
   ]
  },
  {
   "cell_type": "markdown",
   "metadata": {},
   "source": [
    "As a first step, you will need to register a free account on the http://www.quandl.com website."
   ]
  },
  {
   "cell_type": "markdown",
   "metadata": {},
   "source": [
    "After you register, you will be provided with a unique API key, that you should store:"
   ]
  },
  {
   "cell_type": "code",
   "execution_count": 65,
   "metadata": {},
   "outputs": [],
   "source": [
    "# Store the API key as a string - according to PEP8, constants are always named in all upper case\n",
    "API_KEY = ''"
   ]
  },
  {
   "cell_type": "markdown",
   "metadata": {},
   "source": [
    "Qaundl has a large number of data sources, but, unfortunately, most of them require a Premium subscription. Still, there are also a good number of free datasets."
   ]
  },
  {
   "cell_type": "markdown",
   "metadata": {},
   "source": [
    "For this mini project, we will focus on equities data from the Frankfurt Stock Exhange (FSE), which is available for free. We'll try and analyze the stock prices of a company called Carl Zeiss Meditec, which manufactures tools for eye examinations, as well as medical lasers for laser eye surgery: https://www.zeiss.com/meditec/int/home.html. The company is listed under the stock ticker AFX_X."
   ]
  },
  {
   "cell_type": "markdown",
   "metadata": {},
   "source": [
    "You can find the detailed Quandl API instructions here: https://docs.quandl.com/docs/time-series"
   ]
  },
  {
   "cell_type": "markdown",
   "metadata": {},
   "source": [
    "While there is a dedicated Python package for connecting to the Quandl API, we would prefer that you use the *requests* package, which can be easily downloaded using *pip* or *conda*. You can find the documentation for the package here: http://docs.python-requests.org/en/master/ "
   ]
  },
  {
   "cell_type": "markdown",
   "metadata": {},
   "source": [
    "Finally, apart from the *requests* package, you are encouraged to not use any third party Python packages, such as *pandas*, and instead focus on what's available in the Python Standard Library (the *collections* module might come in handy: https://pymotw.com/3/collections/).\n",
    "Also, since you won't have access to DataFrames, you are encouraged to us Python's native data structures - preferably dictionaries, though some questions can also be answered using lists.\n",
    "You can read more on these data structures here: https://docs.python.org/3/tutorial/datastructures.html"
   ]
  },
  {
   "cell_type": "markdown",
   "metadata": {},
   "source": [
    "Keep in mind that the JSON responses you will be getting from the API map almost one-to-one to Python's dictionaries. Unfortunately, they can be very nested, so make sure you read up on indexing dictionaries in the documentation provided above."
   ]
  },
  {
   "cell_type": "code",
   "execution_count": 66,
   "metadata": {},
   "outputs": [],
   "source": [
    "# First, import the relevant modules\n",
    "import requests\n",
    "import collections\n",
    "import json\n",
    "import numpy as np\n",
    "import statistics"
   ]
  },
  {
   "cell_type": "code",
   "execution_count": 67,
   "metadata": {},
   "outputs": [
    {
     "name": "stdout",
     "output_type": "stream",
     "text": [
      "{'dataset': {'id': 10095370, 'dataset_code': 'AFX_X', 'database_code': 'FSE', 'name': 'Carl Zeiss Meditec (AFX_X)', 'description': 'Stock Prices for Carl Zeiss Meditec (AFX) from the Frankfurt Stock Exchange.<br><br>Trading System: Xetra<br><br>ISIN: DE0005313704', 'refreshed_at': '2018-10-05T22:28:07.059Z', 'newest_available_date': '2018-10-05', 'oldest_available_date': '2000-06-07', 'column_names': ['Date', 'Open', 'High', 'Low', 'Close', 'Change', 'Traded Volume', 'Turnover', 'Last Price of the Day', 'Daily Traded Units', 'Daily Turnover'], 'frequency': 'daily', 'type': 'Time Series', 'premium': False, 'limit': None, 'transform': None, 'column_index': None, 'start_date': '2018-10-04', 'end_date': '2018-10-05', 'data': [['2018-10-05', None, 71.7, 68.6, 69.6, None, 195846.0, 13668103.0, None, None, None], ['2018-10-04', None, 72.4, 70.65, 71.1, None, 170698.0, 12183209.0, None, None, None]], 'collapse': None, 'order': None, 'database_id': 6129}}\n"
     ]
    }
   ],
   "source": [
    "# Now, call the Quandl API and pull out a small sample of the data (only one day) to get a glimpse\n",
    "# into the JSON structure that will be returned\n",
    "\n",
    "#To get to the API URL:\n",
    "# Go to www.quandl.com\n",
    "# Enter \"Frankfurt\" in the search bar at the top left, then select \"Frankfurt Stock Exchange\"\n",
    "# Type \"Zeiss\" in the Time Series search bar and then click the \"Expand\" button\n",
    "# Change the \"from\" \"to\" parameter to one day\n",
    "# To the right of the results page, under the \"Export\" heading, under the \"API\" section, click the json button\n",
    "# This will give you the API call to get data in json format (including your key).  Copy/paste and use the code below.\n",
    "\n",
    "# Use this link to validate results: https://www.quandl.com/data/FSE/AFX_X-Carl-Zeiss-Meditec-AFX_X\n",
    "\n",
    "url = 'https://www.quandl.com/api/v3/datasets/FSE/AFX_X.json?api_key=CKb73soxctkpjL14M-j8&start_date=2018-10-04'\n",
    "r = requests.get(url)\n",
    "json_data = r.json()\n",
    "print(json_data)\n"
   ]
  },
  {
   "cell_type": "code",
   "execution_count": 68,
   "metadata": {},
   "outputs": [
    {
     "data": {
      "text/plain": [
       "{'dataset': {'id': 10095370,\n",
       "  'dataset_code': 'AFX_X',\n",
       "  'database_code': 'FSE',\n",
       "  'name': 'Carl Zeiss Meditec (AFX_X)',\n",
       "  'description': 'Stock Prices for Carl Zeiss Meditec (AFX) from the Frankfurt Stock Exchange.<br><br>Trading System: Xetra<br><br>ISIN: DE0005313704',\n",
       "  'refreshed_at': '2018-10-05T22:28:07.059Z',\n",
       "  'newest_available_date': '2018-10-05',\n",
       "  'oldest_available_date': '2000-06-07',\n",
       "  'column_names': ['Date',\n",
       "   'Open',\n",
       "   'High',\n",
       "   'Low',\n",
       "   'Close',\n",
       "   'Change',\n",
       "   'Traded Volume',\n",
       "   'Turnover',\n",
       "   'Last Price of the Day',\n",
       "   'Daily Traded Units',\n",
       "   'Daily Turnover'],\n",
       "  'frequency': 'daily',\n",
       "  'type': 'Time Series',\n",
       "  'premium': False,\n",
       "  'limit': None,\n",
       "  'transform': None,\n",
       "  'column_index': None,\n",
       "  'start_date': '2018-10-04',\n",
       "  'end_date': '2018-10-05',\n",
       "  'data': [['2018-10-05',\n",
       "    None,\n",
       "    71.7,\n",
       "    68.6,\n",
       "    69.6,\n",
       "    None,\n",
       "    195846.0,\n",
       "    13668103.0,\n",
       "    None,\n",
       "    None,\n",
       "    None],\n",
       "   ['2018-10-04',\n",
       "    None,\n",
       "    72.4,\n",
       "    70.65,\n",
       "    71.1,\n",
       "    None,\n",
       "    170698.0,\n",
       "    12183209.0,\n",
       "    None,\n",
       "    None,\n",
       "    None]],\n",
       "  'collapse': None,\n",
       "  'order': None,\n",
       "  'database_id': 6129}}"
      ]
     },
     "execution_count": 68,
     "metadata": {},
     "output_type": "execute_result"
    }
   ],
   "source": [
    "# Inspect the JSON structure of the object you created, and take note of how nested it is,\n",
    "# as well as the overall structure\n",
    "json_data"
   ]
  },
  {
   "cell_type": "markdown",
   "metadata": {},
   "source": [
    "These are your tasks for this mini project:\n",
    "\n",
    "1. Collect data from the Franfurt Stock Exchange, for the ticker AFX_X, for the whole year 2017 (keep in mind that the date format is YYYY-MM-DD).\n",
    "2. Convert the returned JSON object into a Python dictionary.\n",
    "3. Calculate what the highest and lowest opening prices were for the stock in this period.\n",
    "4. What was the largest change in any one day (based on High and Low price)?\n",
    "5. What was the largest change between any two days (based on Closing Price)?\n",
    "6. What was the average daily trading volume during this year?\n",
    "7. (Optional) What was the median trading volume during this year. (Note: you may need to implement your own function for calculating the median.)"
   ]
  },
  {
   "cell_type": "code",
   "execution_count": 69,
   "metadata": {},
   "outputs": [],
   "source": [
    "#Task #1: collect data from the Frankfurt Stock Exchange for the ticker AFX_X for the year 2017\n",
    "url = 'https://www.quandl.com/api/v3/datasets/FSE/AFX_X.json?api_key=CKb73soxctkpjL14M-j8&start_date=2017-01-01&end_date=2017-12-31'\n",
    "r = requests.get(url)\n",
    "json_data = r.json()"
   ]
  },
  {
   "cell_type": "code",
   "execution_count": 70,
   "metadata": {},
   "outputs": [
    {
     "data": {
      "text/plain": [
       "dict"
      ]
     },
     "execution_count": 70,
     "metadata": {},
     "output_type": "execute_result"
    }
   ],
   "source": [
    "#Task #2: convert the returned json object into a Python dictionary\n",
    "\n",
    "#Running the type command returns an object type of dictionary.\n",
    "afx_dict = {}\n",
    "afx_dict = json_data\n",
    "type(afx_dict)"
   ]
  },
  {
   "cell_type": "code",
   "execution_count": 71,
   "metadata": {},
   "outputs": [
    {
     "name": "stdout",
     "output_type": "stream",
     "text": [
      "Highest opening price: $53.11\n",
      "Lowest opening price: $34.0\n"
     ]
    }
   ],
   "source": [
    "#Task #3: obtain the highest and lowest opening prices for Carl Zeiss Meditec in 2017\n",
    "\n",
    "#load json into a dictionary\n",
    "my_dict = {}\n",
    "my_dict = json_data\n",
    "\n",
    "#Using the 'dataset' and 'data' keys create a list of all the stock statistics (high, low, open, close, etc...)\n",
    "my_list = []\n",
    "my_list = my_dict['dataset']['data']\n",
    "\n",
    "#Loop thru the list and create a second list that only contains the opening prices\n",
    "my_list2 = []\n",
    "for num1, name1 in enumerate(my_list, start=1):\n",
    "    for num2, name2 in enumerate(name1, start=1):\n",
    "        if num2 == 2 and name2 is not None:\n",
    "            my_list2.append(name2)\n",
    "\n",
    "#Use the max and min function to obtain the highest and lowest opening price.\n",
    "highest_price = max(my_list2)\n",
    "lowest_price = min(my_list2)\n",
    "\n",
    "print('Highest opening price: $' + str(highest_price))\n",
    "print('Lowest opening price: $' + str(lowest_price))\n"
   ]
  },
  {
   "cell_type": "code",
   "execution_count": 72,
   "metadata": {},
   "outputs": [
    {
     "name": "stdout",
     "output_type": "stream",
     "text": [
      "Largest change in a day (high - low): $2.81\n"
     ]
    }
   ],
   "source": [
    "#Task #4: Calculate the largest change in any one day (based on High and Low price)\n",
    "\n",
    "#load json into a dictionary\n",
    "my_dict = {}\n",
    "my_dict = json_data\n",
    "\n",
    "#Using the 'dataset' and 'data' keys create a list of all the stock statistics (high, low, open, close, etc...)\n",
    "my_list = []\n",
    "my_list = my_dict['dataset']['data']\n",
    "\n",
    "#Loop thru the list and create a second list that only contains the opening prices\n",
    "my_list2 = []\n",
    "for num1, name1 in enumerate(my_list, start=1):\n",
    "    high = -1\n",
    "    low = -1\n",
    "    for num2, name2 in enumerate(name1, start=1):\n",
    "        if num2 == 3 and name2 is not None:\n",
    "            high = name2\n",
    "        if num2 ==4 and name2 is not None:\n",
    "            low = name2\n",
    "    \n",
    "    if high > 0 and low > 0:\n",
    "        change = high - low\n",
    "        my_list2.append(change)\n",
    "\n",
    "#Print the largest change\n",
    "max_change = max(my_list2)\n",
    "max_change_formatted = '{:.2f}'.format(max_change)\n",
    "print('Largest change in a day (high - low): $' + max_change_formatted)\n"
   ]
  },
  {
   "cell_type": "code",
   "execution_count": 73,
   "metadata": {},
   "outputs": [
    {
     "name": "stdout",
     "output_type": "stream",
     "text": [
      "Maximum change between two days (using closing values): $2.56\n"
     ]
    }
   ],
   "source": [
    "#Task #5: Calculate the largest change between any two days (based on Closing Price).\n",
    "#For days with None, the day is removed from the list and the next day with a closing price is used.\n",
    "\n",
    "#load json into a dictionary\n",
    "my_dict = {}\n",
    "my_dict = json_data\n",
    "\n",
    "#Using the 'dataset' and 'data' keys create a list of all the stock statistics (high, low, open, close, etc...)\n",
    "my_list = []\n",
    "my_list = my_dict['dataset']['data']\n",
    "\n",
    "#Loop thru the list and create a second list that only contains the closing prices\n",
    "my_list2 = []\n",
    "for num1, name1 in enumerate(my_list, start=1):\n",
    "    for num2, name2 in enumerate(name1, start=1):\n",
    "        if num2 == 5 and name2 is not None:\n",
    "            my_list2.append(name2)\n",
    "            \n",
    "#Create a third list that drops the first entry and append a dummy value to the last entry, \n",
    "#then convert the two lists to tuples.\n",
    "my_list3 = my_list2[1:]\n",
    "my_list3.append(my_list2[-1])\n",
    "\n",
    "tuple_day = tuple(my_list2)\n",
    "tuple_prior_day = tuple(my_list3)\n",
    "\n",
    "#Subtract the tuples to create a list of changed values. Values need to be made absolute to ensure the\n",
    "#largest change is returned when using the max function.\n",
    "change_in_value_list = np.subtract(tuple_day, tuple_prior_day)\n",
    "\n",
    "max_change = max(abs(change_in_value_list))\n",
    "max_change = '{:.2f}'.format(max_change)\n",
    "\n",
    "print('Maximum change between two days (using closing values): $' + str(max_change))"
   ]
  },
  {
   "cell_type": "code",
   "execution_count": 74,
   "metadata": {},
   "outputs": [
    {
     "name": "stdout",
     "output_type": "stream",
     "text": [
      "Average trading volume per day for 2017 is:89,124 shares\n"
     ]
    }
   ],
   "source": [
    "#Task #6: calculate the average daily trading volume in 2017\n",
    "\n",
    "#load json into a dictionary\n",
    "my_dict = {}\n",
    "my_dict = json_data\n",
    "\n",
    "#Using the 'dataset' and 'data' keys create a list of all the stock statistics (high, low, open, close, etc...)\n",
    "my_list = []\n",
    "my_list = my_dict['dataset']['data']\n",
    "\n",
    "#Loop thru the list and create a second list that only contains the trading volume\n",
    "my_list2 = []\n",
    "for num1, name1 in enumerate(my_list, start=1):\n",
    "    for num2, name2 in enumerate(name1, start=1):\n",
    "        if num2 == 7 and name2 is not None:\n",
    "            my_list2.append(name2)\n",
    "            \n",
    "#Calculate the trading volume average.\n",
    "tv_sum = sum(my_list2)\n",
    "tv_days = len(my_list2)\n",
    "\n",
    "#tv_avg = round(tv_sum/tv_days,0)\n",
    "tv_avg = int(float(tv_sum/tv_days))\n",
    "\n",
    "tv_avg = '{:,}'.format(tv_avg)\n",
    "\n",
    "print('Average trading volume per day for 2017 is:' + str(tv_avg) + ' shares')\n"
   ]
  },
  {
   "cell_type": "code",
   "execution_count": 75,
   "metadata": {},
   "outputs": [
    {
     "name": "stdout",
     "output_type": "stream",
     "text": [
      "Median trading volume value:76,286 shares\n"
     ]
    }
   ],
   "source": [
    "#Task #7: Calculate the median trading volume during this year.\n",
    "\n",
    "#load json into a dictionary\n",
    "my_dict = {}\n",
    "my_dict = json_data\n",
    "\n",
    "#Using the 'dataset' and 'data' keys create a list of all the stock statistics (high, low, open, close, etc...)\n",
    "my_list = []\n",
    "my_list = my_dict['dataset']['data']\n",
    "\n",
    "#Loop thru the list and create a second list that only contains the trading volume\n",
    "my_list2 = []\n",
    "for num1, name1 in enumerate(my_list, start=1):\n",
    "    for num2, name2 in enumerate(name1, start=1):\n",
    "        if num2 == 7 and name2 is not None:\n",
    "            my_list2.append(name2)\n",
    "            \n",
    "# the trading volume median\n",
    "tv_median = statistics.median(my_list2)\n",
    "tv_median = int(float(tv_median))\n",
    "tv_median = '{:,}'.format(tv_median)\n",
    "\n",
    "print('Median trading volume value:' + str(tv_median) + ' shares')"
   ]
  }
 ],
 "metadata": {
  "kernelspec": {
   "display_name": "Python 3",
   "language": "python",
   "name": "python3"
  },
  "language_info": {
   "codemirror_mode": {
    "name": "ipython",
    "version": 3
   },
   "file_extension": ".py",
   "mimetype": "text/x-python",
   "name": "python",
   "nbconvert_exporter": "python",
   "pygments_lexer": "ipython3",
   "version": "3.6.5"
  }
 },
 "nbformat": 4,
 "nbformat_minor": 2
}
